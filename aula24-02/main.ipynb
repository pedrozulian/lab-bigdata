{
 "metadata": {
  "language_info": {
   "codemirror_mode": {
    "name": "ipython",
    "version": 3
   },
   "file_extension": ".py",
   "mimetype": "text/x-python",
   "name": "python",
   "nbconvert_exporter": "python",
   "pygments_lexer": "ipython3",
   "version": "3.8.7-final"
  },
  "orig_nbformat": 2,
  "kernelspec": {
   "name": "python3",
   "display_name": "Python 3",
   "language": "python"
  }
 },
 "nbformat": 4,
 "nbformat_minor": 2,
 "cells": [
  {
   "cell_type": "code",
   "execution_count": 1,
   "metadata": {},
   "outputs": [],
   "source": [
    "name_file = 'sequence.fasta'"
   ]
  },
  {
   "cell_type": "code",
   "execution_count": 2,
   "metadata": {
    "tags": []
   },
   "outputs": [],
   "source": [
    "f = open(name_file, 'r')\n",
    "lines = f.readlines()"
   ]
  },
  {
   "cell_type": "code",
   "execution_count": 5,
   "metadata": {
    "tags": []
   },
   "outputs": [],
   "source": [
    "a, c, t, g = 0, 0, 0, 0\n",
    "\n",
    "for line in lines[1:]:\n",
    "    a += line.count('A')\n",
    "    c += line.count('C')\n",
    "    t += line.count('T')\n",
    "    g += line.count('G')"
   ]
  },
  {
   "cell_type": "code",
   "execution_count": 6,
   "metadata": {},
   "outputs": [
    {
     "output_type": "stream",
     "name": "stdout",
     "text": [
      "Quantidade de \"A\":  9709674 \nQuantidade de \"C\":  5435374 \nQuantidade de \"T\":  9697113 \nQuantidade de \"G\":  5421151\n"
     ]
    }
   ],
   "source": [
    "print('Quantidade de \"A\": ', a,\n",
    "      '\\nQuantidade de \"C\": ', c,\n",
    "      '\\nQuantidade de \"T\": ', t,\n",
    "      '\\nQuantidade de \"G\": ', g)"
   ]
  },
  {
   "cell_type": "code",
   "execution_count": null,
   "metadata": {},
   "outputs": [],
   "source": []
  }
 ]
}