{
 "metadata": {
  "language_info": {
   "codemirror_mode": {
    "name": "ipython",
    "version": 3
   },
   "file_extension": ".py",
   "mimetype": "text/x-python",
   "name": "python",
   "nbconvert_exporter": "python",
   "pygments_lexer": "ipython3",
   "version": "3.8.7-final"
  },
  "orig_nbformat": 2,
  "kernelspec": {
   "name": "python3",
   "display_name": "Python 3.8.7 64-bit ('tcc-tf': venv)",
   "metadata": {
    "interpreter": {
     "hash": "486483cda25084e4a75d5753947fce1dd2b1271f6f80f670f1f62f5544a8947a"
    }
   }
  }
 },
 "nbformat": 4,
 "nbformat_minor": 2,
 "cells": [
  {
   "cell_type": "code",
   "execution_count": 1,
   "metadata": {},
   "outputs": [],
   "source": [
    "name_file = 'sequence.fasta'"
   ]
  },
  {
   "cell_type": "code",
   "execution_count": 4,
   "metadata": {
    "tags": []
   },
   "outputs": [],
   "source": [
    "f = open(name_file, 'r')\n",
    "lines = f.readlines()"
   ]
  },
  {
   "cell_type": "code",
   "execution_count": 17,
   "metadata": {
    "tags": []
   },
   "outputs": [],
   "source": [
    "for line in lines[1:]:\n",
    "    a, c, t, g = 0, 0, 0, 0\n",
    "    a += line.count('A')\n",
    "    c += line.count('C')\n",
    "    t += line.count('T')\n",
    "    g += line.count('G')"
   ]
  },
  {
   "cell_type": "code",
   "execution_count": 18,
   "metadata": {},
   "outputs": [
    {
     "output_type": "stream",
     "name": "stdout",
     "text": [
      "Quantidade de \"A\":  58258044 \nQuantidade de \"C\":  32612244 \nQuantidade de \"T\":  58182678 \nQuantidade de \"G\":  32526906\n"
     ]
    }
   ],
   "source": [
    "print('Quantidade de \"A\": ', a,\n",
    "      '\\nQuantidade de \"C\": ', c,\n",
    "      '\\nQuantidade de \"T\": ', t,\n",
    "      '\\nQuantidade de \"G\": ', g)"
   ]
  }
 ]
}