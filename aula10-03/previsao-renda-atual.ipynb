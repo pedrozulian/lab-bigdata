{
 "cells": [
  {
   "cell_type": "code",
   "execution_count": 207,
   "id": "curious-transfer",
   "metadata": {},
   "outputs": [],
   "source": [
    "import pandas as pd\n",
    "import numpy as np\n",
    "\n",
    "url = \"http://archive.ics.uci.edu/ml/machine-learning-databases/adult/adult.data\"\n",
    "base = pd.read_csv(url, usecols=[' 77516', ' Bachelors', ' 13', ' Never-married', \n",
    "                                 ' Adm-clerical', ' Not-in-family', ' White', ' <=50K'])"
   ]
  },
  {
   "cell_type": "code",
   "execution_count": 208,
   "id": "accomplished-clearance",
   "metadata": {},
   "outputs": [
    {
     "data": {
      "text/html": [
       "<div>\n",
       "<style scoped>\n",
       "    .dataframe tbody tr th:only-of-type {\n",
       "        vertical-align: middle;\n",
       "    }\n",
       "\n",
       "    .dataframe tbody tr th {\n",
       "        vertical-align: top;\n",
       "    }\n",
       "\n",
       "    .dataframe thead th {\n",
       "        text-align: right;\n",
       "    }\n",
       "</style>\n",
       "<table border=\"1\" class=\"dataframe\">\n",
       "  <thead>\n",
       "    <tr style=\"text-align: right;\">\n",
       "      <th></th>\n",
       "      <th>77516</th>\n",
       "      <th>Bachelors</th>\n",
       "      <th>13</th>\n",
       "      <th>Never-married</th>\n",
       "      <th>Adm-clerical</th>\n",
       "      <th>Not-in-family</th>\n",
       "      <th>White</th>\n",
       "      <th>&lt;=50K</th>\n",
       "    </tr>\n",
       "  </thead>\n",
       "  <tbody>\n",
       "    <tr>\n",
       "      <th>0</th>\n",
       "      <td>83311</td>\n",
       "      <td>Bachelors</td>\n",
       "      <td>13</td>\n",
       "      <td>Married-civ-spouse</td>\n",
       "      <td>Exec-managerial</td>\n",
       "      <td>Husband</td>\n",
       "      <td>White</td>\n",
       "      <td>&lt;=50K</td>\n",
       "    </tr>\n",
       "    <tr>\n",
       "      <th>1</th>\n",
       "      <td>215646</td>\n",
       "      <td>HS-grad</td>\n",
       "      <td>9</td>\n",
       "      <td>Divorced</td>\n",
       "      <td>Handlers-cleaners</td>\n",
       "      <td>Not-in-family</td>\n",
       "      <td>White</td>\n",
       "      <td>&lt;=50K</td>\n",
       "    </tr>\n",
       "    <tr>\n",
       "      <th>2</th>\n",
       "      <td>234721</td>\n",
       "      <td>11th</td>\n",
       "      <td>7</td>\n",
       "      <td>Married-civ-spouse</td>\n",
       "      <td>Handlers-cleaners</td>\n",
       "      <td>Husband</td>\n",
       "      <td>Black</td>\n",
       "      <td>&lt;=50K</td>\n",
       "    </tr>\n",
       "    <tr>\n",
       "      <th>3</th>\n",
       "      <td>338409</td>\n",
       "      <td>Bachelors</td>\n",
       "      <td>13</td>\n",
       "      <td>Married-civ-spouse</td>\n",
       "      <td>Prof-specialty</td>\n",
       "      <td>Wife</td>\n",
       "      <td>Black</td>\n",
       "      <td>&lt;=50K</td>\n",
       "    </tr>\n",
       "    <tr>\n",
       "      <th>4</th>\n",
       "      <td>284582</td>\n",
       "      <td>Masters</td>\n",
       "      <td>14</td>\n",
       "      <td>Married-civ-spouse</td>\n",
       "      <td>Exec-managerial</td>\n",
       "      <td>Wife</td>\n",
       "      <td>White</td>\n",
       "      <td>&lt;=50K</td>\n",
       "    </tr>\n",
       "    <tr>\n",
       "      <th>...</th>\n",
       "      <td>...</td>\n",
       "      <td>...</td>\n",
       "      <td>...</td>\n",
       "      <td>...</td>\n",
       "      <td>...</td>\n",
       "      <td>...</td>\n",
       "      <td>...</td>\n",
       "      <td>...</td>\n",
       "    </tr>\n",
       "    <tr>\n",
       "      <th>32555</th>\n",
       "      <td>257302</td>\n",
       "      <td>Assoc-acdm</td>\n",
       "      <td>12</td>\n",
       "      <td>Married-civ-spouse</td>\n",
       "      <td>Tech-support</td>\n",
       "      <td>Wife</td>\n",
       "      <td>White</td>\n",
       "      <td>&lt;=50K</td>\n",
       "    </tr>\n",
       "    <tr>\n",
       "      <th>32556</th>\n",
       "      <td>154374</td>\n",
       "      <td>HS-grad</td>\n",
       "      <td>9</td>\n",
       "      <td>Married-civ-spouse</td>\n",
       "      <td>Machine-op-inspct</td>\n",
       "      <td>Husband</td>\n",
       "      <td>White</td>\n",
       "      <td>&gt;50K</td>\n",
       "    </tr>\n",
       "    <tr>\n",
       "      <th>32557</th>\n",
       "      <td>151910</td>\n",
       "      <td>HS-grad</td>\n",
       "      <td>9</td>\n",
       "      <td>Widowed</td>\n",
       "      <td>Adm-clerical</td>\n",
       "      <td>Unmarried</td>\n",
       "      <td>White</td>\n",
       "      <td>&lt;=50K</td>\n",
       "    </tr>\n",
       "    <tr>\n",
       "      <th>32558</th>\n",
       "      <td>201490</td>\n",
       "      <td>HS-grad</td>\n",
       "      <td>9</td>\n",
       "      <td>Never-married</td>\n",
       "      <td>Adm-clerical</td>\n",
       "      <td>Own-child</td>\n",
       "      <td>White</td>\n",
       "      <td>&lt;=50K</td>\n",
       "    </tr>\n",
       "    <tr>\n",
       "      <th>32559</th>\n",
       "      <td>287927</td>\n",
       "      <td>HS-grad</td>\n",
       "      <td>9</td>\n",
       "      <td>Married-civ-spouse</td>\n",
       "      <td>Exec-managerial</td>\n",
       "      <td>Wife</td>\n",
       "      <td>White</td>\n",
       "      <td>&gt;50K</td>\n",
       "    </tr>\n",
       "  </tbody>\n",
       "</table>\n",
       "<p>32560 rows × 8 columns</p>\n",
       "</div>"
      ],
      "text/plain": [
       "        77516    Bachelors   13        Never-married        Adm-clerical  \\\n",
       "0       83311    Bachelors   13   Married-civ-spouse     Exec-managerial   \n",
       "1      215646      HS-grad    9             Divorced   Handlers-cleaners   \n",
       "2      234721         11th    7   Married-civ-spouse   Handlers-cleaners   \n",
       "3      338409    Bachelors   13   Married-civ-spouse      Prof-specialty   \n",
       "4      284582      Masters   14   Married-civ-spouse     Exec-managerial   \n",
       "...       ...          ...  ...                  ...                 ...   \n",
       "32555  257302   Assoc-acdm   12   Married-civ-spouse        Tech-support   \n",
       "32556  154374      HS-grad    9   Married-civ-spouse   Machine-op-inspct   \n",
       "32557  151910      HS-grad    9              Widowed        Adm-clerical   \n",
       "32558  201490      HS-grad    9        Never-married        Adm-clerical   \n",
       "32559  287927      HS-grad    9   Married-civ-spouse     Exec-managerial   \n",
       "\n",
       "        Not-in-family   White   <=50K  \n",
       "0             Husband   White   <=50K  \n",
       "1       Not-in-family   White   <=50K  \n",
       "2             Husband   Black   <=50K  \n",
       "3                Wife   Black   <=50K  \n",
       "4                Wife   White   <=50K  \n",
       "...               ...     ...     ...  \n",
       "32555            Wife   White   <=50K  \n",
       "32556         Husband   White    >50K  \n",
       "32557       Unmarried   White   <=50K  \n",
       "32558       Own-child   White   <=50K  \n",
       "32559            Wife   White    >50K  \n",
       "\n",
       "[32560 rows x 8 columns]"
      ]
     },
     "execution_count": 208,
     "metadata": {},
     "output_type": "execute_result"
    }
   ],
   "source": [
    "base"
   ]
  },
  {
   "cell_type": "code",
   "execution_count": 209,
   "id": "marine-trunk",
   "metadata": {},
   "outputs": [],
   "source": [
    "prev = base.iloc[:, [1, 3, 4, 5, 6]].values\n",
    "y = base.iloc[:, 7].values"
   ]
  },
  {
   "cell_type": "code",
   "execution_count": 210,
   "id": "according-vulnerability",
   "metadata": {},
   "outputs": [],
   "source": [
    "from sklearn.preprocessing import LabelEncoder\n",
    "le_X = LabelEncoder()\n",
    "le_y = LabelEncoder()\n",
    "\n",
    "y = le_y.fit_transform(y)\n",
    "X = []\n",
    "\n",
    "for p in prev: # For nos arrays de valores categóricos\n",
    "    X.append(le_X.fit_transform(p))"
   ]
  },
  {
   "cell_type": "code",
   "execution_count": 211,
   "id": "analyzed-apartment",
   "metadata": {},
   "outputs": [],
   "source": [
    "X = np.array(X)\n",
    "anothers_X = base.iloc[:, [0, 2]].values\n",
    "X = np.concatenate((X, anothers_X), axis=1)"
   ]
  },
  {
   "cell_type": "code",
   "execution_count": 212,
   "id": "printable-lender",
   "metadata": {},
   "outputs": [],
   "source": [
    "from sklearn.preprocessing import StandardScaler\n",
    "scaler_X = StandardScaler()\n",
    "X = scaler_X.fit_transform(X)"
   ]
  },
  {
   "cell_type": "code",
   "execution_count": 213,
   "id": "played-chain",
   "metadata": {},
   "outputs": [],
   "source": [
    "from sklearn.model_selection import train_test_split\n",
    "X_train, X_test, y_train, y_test = train_test_split(X, y, test_size=0.33, random_state=66)"
   ]
  },
  {
   "cell_type": "code",
   "execution_count": 214,
   "id": "oriented-cattle",
   "metadata": {},
   "outputs": [],
   "source": [
    "from sklearn.ensemble import RandomForestClassifier\n",
    "rfc = RandomForestClassifier()\n",
    "rfc.fit(X_train, y_train)\n",
    "rfc_predict = rfc.predict(X_test)"
   ]
  },
  {
   "cell_type": "code",
   "execution_count": 215,
   "id": "medieval-charity",
   "metadata": {},
   "outputs": [
    {
     "name": "stdout",
     "output_type": "stream",
     "text": [
      "[RandomForest]\n",
      " Precision: 0.7544904606793857 \n",
      " Matrix: [[6861 1308]\n",
      " [1330 1246]]\n"
     ]
    }
   ],
   "source": [
    "from sklearn.metrics import confusion_matrix, accuracy_score, r2_score\n",
    "precision_rfc = accuracy_score(y_test, rfc_predict)\n",
    "matrix_rfc = confusion_matrix(y_test, rfc_predict)\n",
    "print(\"[RandomForest]\\n Precision:\", precision_rfc, \"\\n Matrix:\", matrix_rfc)"
   ]
  },
  {
   "cell_type": "code",
   "execution_count": 216,
   "id": "developing-whole",
   "metadata": {},
   "outputs": [],
   "source": [
    "from sklearn.naive_bayes import GaussianNB\n",
    "gnb = GaussianNB()\n",
    "gnb.fit(X_train, y_train)\n",
    "gnb_predict = gnb.predict(X_test)"
   ]
  },
  {
   "cell_type": "code",
   "execution_count": 220,
   "id": "presidential-capture",
   "metadata": {},
   "outputs": [
    {
     "name": "stdout",
     "output_type": "stream",
     "text": [
      "[GaussianNB]\n",
      " Precision: 0.7842717543043276 \n",
      " Matrix: [[7564  605]\n",
      " [1713  863]]\n"
     ]
    }
   ],
   "source": [
    "precision_gnb = accuracy_score(y_test, gnb_predict)\n",
    "matrix_gnb = confusion_matrix(y_test, gnb_predict)\n",
    "print(\"[GaussianNB]\\n Precision:\", precision_gnb, \"\\n Matrix:\", matrix_gnb)"
   ]
  },
  {
   "cell_type": "code",
   "execution_count": 218,
   "id": "disturbed-depth",
   "metadata": {},
   "outputs": [],
   "source": [
    "from sklearn.linear_model import LinearRegression\n",
    "lr = LinearRegression()\n",
    "lr.fit(X_train, y_train)\n",
    "lr_predict = lr.predict(X_test)"
   ]
  },
  {
   "cell_type": "code",
   "execution_count": 219,
   "id": "suspected-economy",
   "metadata": {},
   "outputs": [
    {
     "name": "stdout",
     "output_type": "stream",
     "text": [
      "[LinearRegression]\n",
      " Precision: 0.17736114392804925\n"
     ]
    }
   ],
   "source": [
    "precision_lr = r2_score(y_test, lr_predict)\n",
    "print(\"[LinearRegression]\\n Precision:\", precision_lr)"
   ]
  }
 ],
 "metadata": {
  "kernelspec": {
   "display_name": "Python 3",
   "language": "python",
   "name": "python3"
  },
  "language_info": {
   "codemirror_mode": {
    "name": "ipython",
    "version": 3
   },
   "file_extension": ".py",
   "mimetype": "text/x-python",
   "name": "python",
   "nbconvert_exporter": "python",
   "pygments_lexer": "ipython3",
   "version": "3.8.7+"
  }
 },
 "nbformat": 4,
 "nbformat_minor": 5
}
